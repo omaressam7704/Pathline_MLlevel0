{
  "nbformat": 4,
  "nbformat_minor": 0,
  "metadata": {
    "colab": {
      "provenance": [],
      "authorship_tag": "ABX9TyMhWkodWnWQh5P87yvjYw7l",
      "include_colab_link": true
    },
    "kernelspec": {
      "name": "python3",
      "display_name": "Python 3"
    },
    "language_info": {
      "name": "python"
    }
  },
  "cells": [
    {
      "cell_type": "markdown",
      "metadata": {
        "id": "view-in-github",
        "colab_type": "text"
      },
      "source": [
        "<a href=\"https://colab.research.google.com/github/omaressam7704/Pathline_MLlevel0/blob/main/Task1Pathline.ipynb\" target=\"_parent\"><img src=\"https://colab.research.google.com/assets/colab-badge.svg\" alt=\"Open In Colab\"/></a>"
      ]
    },
    {
      "cell_type": "code",
      "execution_count": 18,
      "metadata": {
        "colab": {
          "base_uri": "https://localhost:8080/"
        },
        "id": "1b3yR_YK2_oK",
        "outputId": "8c602ef8-8196-4f62-c099-5950fb2a924e",
        "collapsed": true
      },
      "outputs": [
        {
          "output_type": "stream",
          "name": "stdout",
          "text": [
            "0.5185384411431797\n"
          ]
        }
      ],
      "source": [
        "import pandas as pd\n",
        "import numpy as np\n",
        "from sklearn.linear_model import LinearRegression\n",
        "from sklearn.model_selection import train_test_split\n",
        "\n",
        "\n",
        "\n",
        "# Read Dataset\n",
        "df = pd.read_csv(\"House_Prices.csv\")\n",
        "# Drop duplicates\n",
        "df = df.drop_duplicates()\n",
        "# Select features\n",
        "features = ['BEDROOMS', 'BATHROOMS', 'GARAGE', 'LAND_AREA', 'FLOOR_AREA',\n",
        "            'CBD_DIST', 'NEAREST_SCH_DIST', 'BUILD_YEAR']\n",
        "# Select target\n",
        "target = 'PRICE'\n",
        "# Drop na values then making x = features and y = price and\n",
        "# splitting the data 0.8 for training and 0.2 for testing\n",
        "df = df.dropna(subset=features + [target])\n",
        "X = df[features]\n",
        "y = df[target]\n",
        "\n",
        "X_train, X_test, y_train, y_test = train_test_split(X, y, test_size=0.2, random_state=42)\n",
        "# Using the Linear Regression model then training it on the data\n",
        "#then predicting and printing a score that shows how accurate\n",
        "model = LinearRegression()\n",
        "model.fit(X_train, y_train)\n",
        "y_pred = model.predict(X_test)\n",
        "print(model.score(X_test, y_test))\n",
        "\n"
      ]
    }
  ]
}