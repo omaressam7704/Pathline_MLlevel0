{
  "nbformat": 4,
  "nbformat_minor": 0,
  "metadata": {
    "colab": {
      "provenance": [],
      "authorship_tag": "ABX9TyOd49P1Gygyg5QpBWXBmN+V",
      "include_colab_link": true
    },
    "kernelspec": {
      "name": "python3",
      "display_name": "Python 3"
    },
    "language_info": {
      "name": "python"
    }
  },
  "cells": [
    {
      "cell_type": "markdown",
      "metadata": {
        "id": "view-in-github",
        "colab_type": "text"
      },
      "source": [
        "<a href=\"https://colab.research.google.com/github/omaressam7704/Pathline_MLlevel0/blob/main/Task2Pathline.ipynb\" target=\"_parent\"><img src=\"https://colab.research.google.com/assets/colab-badge.svg\" alt=\"Open In Colab\"/></a>"
      ]
    },
    {
      "cell_type": "code",
      "execution_count": 5,
      "metadata": {
        "colab": {
          "base_uri": "https://localhost:8080/"
        },
        "id": "Rpkh09K0E-pc",
        "outputId": "26052bb9-6e45-49ae-a781-5f7d0c75189c"
      },
      "outputs": [
        {
          "output_type": "stream",
          "name": "stdout",
          "text": [
            "0.505174172861099\n"
          ]
        }
      ],
      "source": [
        "import pandas as pd\n",
        "from sklearn.model_selection import train_test_split\n",
        "from sklearn.linear_model import LogisticRegression\n",
        "from sklearn.metrics import accuracy_score\n",
        "# Read the dataset\n",
        "df = pd.read_csv(\"student_performance_prediction.csv\")\n",
        "# Select features and target\n",
        "features = ['Study Hours per Week','Attendance Rate']\n",
        "target = 'Passed'\n",
        "# drop duplicates and NA values\n",
        "df.drop_duplicates()\n",
        "df = df.dropna(subset=features + [target])\n",
        "x = df[features]\n",
        "y = df[target]\n",
        "# split data then train the model to predict the grades\n",
        "x_train, x_test, y_train, y_test = train_test_split(x, y, test_size=0.2, random_state=42)\n",
        "model = LogisticRegression()\n",
        "model.fit(x_train, y_train)\n",
        "y_pred = model.predict(x_test)\n",
        "accuracy = accuracy_score(y_test, y_pred)\n",
        "print(accuracy)"
      ]
    }
  ]
}