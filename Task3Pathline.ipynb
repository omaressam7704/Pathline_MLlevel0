{
  "nbformat": 4,
  "nbformat_minor": 0,
  "metadata": {
    "colab": {
      "provenance": [],
      "authorship_tag": "ABX9TyNivfHrOPKShhRjBb4Cr5zr",
      "include_colab_link": true
    },
    "kernelspec": {
      "name": "python3",
      "display_name": "Python 3"
    },
    "language_info": {
      "name": "python"
    }
  },
  "cells": [
    {
      "cell_type": "markdown",
      "metadata": {
        "id": "view-in-github",
        "colab_type": "text"
      },
      "source": [
        "<a href=\"https://colab.research.google.com/github/omaressam7704/Pathline_MLlevel0/blob/main/Task3Pathline.ipynb\" target=\"_parent\"><img src=\"https://colab.research.google.com/assets/colab-badge.svg\" alt=\"Open In Colab\"/></a>"
      ]
    },
    {
      "cell_type": "code",
      "execution_count": 4,
      "metadata": {
        "colab": {
          "base_uri": "https://localhost:8080/"
        },
        "id": "-I9DktHbU8ZI",
        "outputId": "747edc73-1387-4bd0-bfe6-d397f9f9b166"
      },
      "outputs": [
        {
          "output_type": "stream",
          "name": "stdout",
          "text": [
            "Accuracy: 0.505174172861099\n",
            "Precision: 0.5042430878729811\n",
            "Recall: 0.5376532399299475\n"
          ]
        }
      ],
      "source": [
        "import pandas as pd\n",
        "from sklearn.model_selection import train_test_split\n",
        "from sklearn.linear_model import LogisticRegression\n",
        "from sklearn.metrics import accuracy_score\n",
        "from sklearn.metrics import accuracy_score, precision_score, recall_score\n",
        "# Read the dataset\n",
        "df = pd.read_csv(\"student_performance_prediction.csv\")\n",
        "# Select features and target\n",
        "features = ['Study Hours per Week','Attendance Rate']\n",
        "target = 'Passed'\n",
        "df['Passed'] = df['Passed'].map({'Yes': 1, 'No': 0})\n",
        "# drop duplicates and NA values\n",
        "df.drop_duplicates()\n",
        "df = df.dropna(subset=features + [target])\n",
        "x = df[features]\n",
        "y = df[target]\n",
        "# split data then train the model to predict the grades\n",
        "x_train, x_test, y_train, y_test = train_test_split(x, y, test_size=0.2, random_state=42)\n",
        "model = LogisticRegression()\n",
        "model.fit(x_train, y_train)\n",
        "y_pred = model.predict(x_test)\n",
        "accuracy = accuracy_score(y_test, y_pred)\n",
        "precision = precision_score(y_test, y_pred)\n",
        "recall = recall_score(y_test, y_pred)\n",
        "print(f\"Accuracy: {accuracy}\")\n",
        "print(f\"Precision: {precision}\")\n",
        "print(f\"Recall: {recall}\")"
      ]
    }
  ]
}